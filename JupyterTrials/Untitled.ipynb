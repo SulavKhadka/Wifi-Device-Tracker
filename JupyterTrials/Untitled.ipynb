{
 "cells": [
  {
   "cell_type": "code",
   "execution_count": 39,
   "metadata": {},
   "outputs": [],
   "source": [
    "import subprocess"
   ]
  },
  {
   "cell_type": "code",
   "execution_count": 59,
   "metadata": {},
   "outputs": [],
   "source": [
    "def get_devices_on_network():\n",
    "    nmap = subprocess.Popen(['arp', '-a'], stdout=subprocess.PIPE)\n",
    "    ipout = nmap.communicate()[0].decode(\"utf-8\")\n",
    "    \n",
    "    devices = []\n",
    "    for i in ipout.strip().split(\"\\n\"):\n",
    "        \n",
    "        raw_list = i.split(\" \")\n",
    "        if len(raw_list) > 5:\n",
    "            devices.append({\n",
    "            \"AssignedDeviceName\" : \"\",\n",
    "            \"IdentifiedDeviceName\": raw_list[0],\n",
    "            \"IpAddress\": raw_list[1][1:-1],\n",
    "            \"MacAddress\": raw_list[3]\n",
    "            })\n",
    "        else:\n",
    "            print(\"Uh Oh! Something is wrong with this line.\")\n",
    "            print(raw_list)\n",
    "    \n",
    "    return devices"
   ]
  },
  {
   "cell_type": "code",
   "execution_count": 60,
   "metadata": {},
   "outputs": [
    {
     "data": {
      "text/plain": [
       "[{'AssignedDeviceName': '',\n",
       "  'IdentifiedDeviceName': 'linksys00990.verizon.net',\n",
       "  'IpAddress': '10.254.1.1',\n",
       "  'MacAddress': 'c4:41:1e:f:fc:db'},\n",
       " {'AssignedDeviceName': '',\n",
       "  'IdentifiedDeviceName': 'chromecast-ultra.verizon.net',\n",
       "  'IpAddress': '10.254.1.119',\n",
       "  'MacAddress': '1c:f2:9a:77:37:fb'},\n",
       " {'AssignedDeviceName': '',\n",
       "  'IdentifiedDeviceName': 'just-an-iphone.verizon.net',\n",
       "  'IpAddress': '10.254.1.152',\n",
       "  'MacAddress': '8c:86:1e:32:86:52'},\n",
       " {'AssignedDeviceName': '',\n",
       "  'IdentifiedDeviceName': 'sulavs-mbp-2.verizon.net',\n",
       "  'IpAddress': '10.254.1.164',\n",
       "  'MacAddress': '18:65:90:db:1:41'},\n",
       " {'AssignedDeviceName': '',\n",
       "  'IdentifiedDeviceName': '?',\n",
       "  'IpAddress': '10.254.1.255',\n",
       "  'MacAddress': 'ff:ff:ff:ff:ff:ff'},\n",
       " {'AssignedDeviceName': '',\n",
       "  'IdentifiedDeviceName': '?',\n",
       "  'IpAddress': '224.0.0.251',\n",
       "  'MacAddress': '1:0:5e:0:0:fb'},\n",
       " {'AssignedDeviceName': '',\n",
       "  'IdentifiedDeviceName': '?',\n",
       "  'IpAddress': '239.255.255.250',\n",
       "  'MacAddress': '1:0:5e:7f:ff:fa'}]"
      ]
     },
     "execution_count": 60,
     "metadata": {},
     "output_type": "execute_result"
    }
   ],
   "source": [
    "get_devices_on_network()"
   ]
  },
  {
   "cell_type": "code",
   "execution_count": 62,
   "metadata": {},
   "outputs": [],
   "source": [
    "import sqlite3\n",
    "db = sqlite3.connect(\"network_device_logs.db\")"
   ]
  },
  {
   "cell_type": "code",
   "execution_count": 69,
   "metadata": {},
   "outputs": [
    {
     "data": {
      "text/plain": [
       "1583610267.678738"
      ]
     },
     "execution_count": 69,
     "metadata": {},
     "output_type": "execute_result"
    }
   ],
   "source": [
    "from datetime import datetime, timezone\n",
    "datetime.now().replace(tzinfo=timezone.utc).timestamp()"
   ]
  },
  {
   "cell_type": "code",
   "execution_count": 70,
   "metadata": {},
   "outputs": [
    {
     "data": {
      "text/plain": [
       "1583628267.846021"
      ]
     },
     "execution_count": 70,
     "metadata": {},
     "output_type": "execute_result"
    }
   ],
   "source": [
    "datetime.now().timestamp()"
   ]
  },
  {
   "cell_type": "code",
   "execution_count": 80,
   "metadata": {},
   "outputs": [
    {
     "data": {
      "text/plain": [
       "'device04dd2394-54f9-4e8a-b041-009180fbd3a3'"
      ]
     },
     "execution_count": 80,
     "metadata": {},
     "output_type": "execute_result"
    }
   ],
   "source": [
    "import uuid\n",
    "f\"device{uuid.uuid4()}\""
   ]
  },
  {
   "cell_type": "code",
   "execution_count": null,
   "metadata": {},
   "outputs": [],
   "source": []
  }
 ],
 "metadata": {
  "kernelspec": {
   "display_name": "Python 3",
   "language": "python",
   "name": "python3"
  },
  "language_info": {
   "codemirror_mode": {
    "name": "ipython",
    "version": 3
   },
   "file_extension": ".py",
   "mimetype": "text/x-python",
   "name": "python",
   "nbconvert_exporter": "python",
   "pygments_lexer": "ipython3",
   "version": "3.7.5"
  }
 },
 "nbformat": 4,
 "nbformat_minor": 2
}
